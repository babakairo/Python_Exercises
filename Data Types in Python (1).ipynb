{
 "cells": [
  {
   "cell_type": "markdown",
   "id": "2ba3a8df",
   "metadata": {},
   "source": [
    " ## Introduction to Programming"
   ]
  },
  {
   "cell_type": "markdown",
   "id": "b9f1de37",
   "metadata": {},
   "source": [
    "A Programming Language is a means by which communication is achieved between humans and computers or computing devices.<br>\n",
    "It contains rules and syntaxes, like every other types of languages, that allow humand to write apps or software that will eventually be executed by computers.\n",
    "<br><br>\n",
    "As there are different human languages that you can leaarn, there are also different programming languages.<br>\n",
    "This class focuses on the Python Programming Language.\n",
    "<hr>"
   ]
  },
  {
   "cell_type": "markdown",
   "id": "e04b3285",
   "metadata": {},
   "source": [
    "Python\n",
    "Python is a type of general purpose language.\n",
    "It's simple to write, easy to read, and one of the most sought-for in the Data World.\n",
    "Python is open-source. Any one can pick it up, work on it, and make use of it.\n",
    "It is multi-paradigm - it can be used as an Objected-Oriented Language, Functional Language, Scripting Language, e.t.c."
   ]
  },
  {
   "cell_type": "markdown",
   "id": "c4be702e",
   "metadata": {},
   "source": [
    "### Speaking Python\n",
    "\n",
    "To be able to speak the Python Language, You have to understand its basics which include:\n",
    "\n",
    "- Variables\n",
    "- Data Types (Integers, Floats, Strings, Booleans)\n",
    "- Data Structures (Lists, Tuples, Dictionaries, Sets)\n",
    "- Conditions (If, Else, Elif)\n",
    "- Control Structures and Functions (Loops, Conditions)\n"
   ]
  },
  {
   "cell_type": "code",
   "execution_count": 6,
   "id": "20532bc3",
   "metadata": {},
   "outputs": [
    {
     "name": "stdout",
     "output_type": "stream",
     "text": [
      "Hello World!!!\n"
     ]
    }
   ],
   "source": [
    "print(\"Hello World!!!\")"
   ]
  },
  {
   "cell_type": "code",
   "execution_count": 9,
   "id": "c42d2704",
   "metadata": {},
   "outputs": [
    {
     "name": "stdout",
     "output_type": "stream",
     "text": [
      "My Name is Jaykay and I am Data Engineer\n"
     ]
    }
   ],
   "source": [
    "print(\"My Name is Jaykay and I am Data Engineer\")"
   ]
  },
  {
   "cell_type": "markdown",
   "id": "6b58dcfe",
   "metadata": {},
   "source": [
    "###  Variables\n",
    "A variable is like a container where you house or keep an object"
   ]
  },
  {
   "cell_type": "code",
   "execution_count": 24,
   "id": "21c76aea",
   "metadata": {},
   "outputs": [
    {
     "name": "stdout",
     "output_type": "stream",
     "text": [
      "Good afternoon guys, Happy Sunday\n"
     ]
    }
   ],
   "source": [
    "print('Good afternoon guys, Happy Sunday')"
   ]
  },
  {
   "cell_type": "code",
   "execution_count": 10,
   "id": "04a0f26c",
   "metadata": {},
   "outputs": [],
   "source": [
    "greet = 'Good afternoon guys, Happy Sunday'\n"
   ]
  },
  {
   "cell_type": "code",
   "execution_count": 11,
   "id": "bf403b53",
   "metadata": {},
   "outputs": [
    {
     "name": "stdout",
     "output_type": "stream",
     "text": [
      "Good afternoon guys, Happy Sunday\n"
     ]
    }
   ],
   "source": [
    "print(greet)"
   ]
  },
  {
   "cell_type": "code",
   "execution_count": 12,
   "id": "61510589",
   "metadata": {},
   "outputs": [],
   "source": [
    "A = 'Hello World !!!'"
   ]
  },
  {
   "cell_type": "code",
   "execution_count": 13,
   "id": "e0611195",
   "metadata": {},
   "outputs": [
    {
     "name": "stdout",
     "output_type": "stream",
     "text": [
      "Hello World !!!\n"
     ]
    }
   ],
   "source": [
    "print(A)"
   ]
  },
  {
   "cell_type": "code",
   "execution_count": 25,
   "id": "c57613f4",
   "metadata": {},
   "outputs": [],
   "source": [
    "A = \"This is Data ENGINEERING\""
   ]
  },
  {
   "cell_type": "code",
   "execution_count": 26,
   "id": "62ace840",
   "metadata": {},
   "outputs": [
    {
     "data": {
      "text/plain": [
       "'This is Data ENGINEERING'"
      ]
     },
     "execution_count": 26,
     "metadata": {},
     "output_type": "execute_result"
    }
   ],
   "source": [
    "A"
   ]
  },
  {
   "cell_type": "code",
   "execution_count": 15,
   "id": "41279b1c",
   "metadata": {},
   "outputs": [
    {
     "data": {
      "text/plain": [
       "'Good afternoon guys, Happy Sunday'"
      ]
     },
     "execution_count": 15,
     "metadata": {},
     "output_type": "execute_result"
    }
   ],
   "source": [
    "greet"
   ]
  },
  {
   "cell_type": "code",
   "execution_count": 17,
   "id": "9b645394",
   "metadata": {},
   "outputs": [],
   "source": [
    "school = \"10Anlytics\"\n",
    "cohort = 13"
   ]
  },
  {
   "cell_type": "code",
   "execution_count": 18,
   "id": "2b94eb9e",
   "metadata": {},
   "outputs": [
    {
     "data": {
      "text/plain": [
       "13"
      ]
     },
     "execution_count": 18,
     "metadata": {},
     "output_type": "execute_result"
    }
   ],
   "source": [
    "school\n",
    "cohort"
   ]
  },
  {
   "cell_type": "code",
   "execution_count": 19,
   "id": "e1e3346c",
   "metadata": {},
   "outputs": [
    {
     "name": "stdout",
     "output_type": "stream",
     "text": [
      "10Anlytics\n",
      "13\n"
     ]
    }
   ],
   "source": [
    "print(school)\n",
    "print(cohort)"
   ]
  },
  {
   "cell_type": "markdown",
   "id": "ac00d95c",
   "metadata": {},
   "source": [
    "## Data Types"
   ]
  },
  {
   "cell_type": "markdown",
   "id": "28b64533",
   "metadata": {},
   "source": [
    "- Data Types (Integers, Floats, Strings, Booleans)"
   ]
  },
  {
   "cell_type": "code",
   "execution_count": 28,
   "id": "a8fa8bec",
   "metadata": {},
   "outputs": [],
   "source": [
    "# Integer data types are Numeric Whole numbers\n",
    "# 5, 20, 50, 1000, 1000000 "
   ]
  },
  {
   "cell_type": "code",
   "execution_count": 29,
   "id": "9e7e7369",
   "metadata": {},
   "outputs": [],
   "source": [
    "# Float data type is a numeric number that has decimals\n",
    "# 5.6, 10.0, 3.1"
   ]
  },
  {
   "cell_type": "code",
   "execution_count": 30,
   "id": "d2c626cc",
   "metadata": {},
   "outputs": [],
   "source": [
    "# Strings\n",
    "# A String can be any character"
   ]
  },
  {
   "cell_type": "code",
   "execution_count": 31,
   "id": "5597a7a0",
   "metadata": {},
   "outputs": [],
   "source": [
    "st = \"ABCD\"\n",
    "st1 = '10'"
   ]
  },
  {
   "cell_type": "code",
   "execution_count": 32,
   "id": "e5aa19b5",
   "metadata": {},
   "outputs": [
    {
     "data": {
      "text/plain": [
       "str"
      ]
     },
     "execution_count": 32,
     "metadata": {},
     "output_type": "execute_result"
    }
   ],
   "source": [
    "type(st)"
   ]
  },
  {
   "cell_type": "code",
   "execution_count": 33,
   "id": "40365c63",
   "metadata": {},
   "outputs": [
    {
     "data": {
      "text/plain": [
       "str"
      ]
     },
     "execution_count": 33,
     "metadata": {},
     "output_type": "execute_result"
    }
   ],
   "source": [
    "type(st1)"
   ]
  },
  {
   "cell_type": "code",
   "execution_count": 34,
   "id": "70d7ac3f",
   "metadata": {},
   "outputs": [
    {
     "data": {
      "text/plain": [
       "int"
      ]
     },
     "execution_count": 34,
     "metadata": {},
     "output_type": "execute_result"
    }
   ],
   "source": [
    "st2 = 50\n",
    "type(st2)"
   ]
  },
  {
   "cell_type": "code",
   "execution_count": 35,
   "id": "42f30bdc",
   "metadata": {},
   "outputs": [
    {
     "data": {
      "text/plain": [
       "float"
      ]
     },
     "execution_count": 35,
     "metadata": {},
     "output_type": "execute_result"
    }
   ],
   "source": [
    "st3 = 75.6\n",
    "type(st3)"
   ]
  },
  {
   "cell_type": "code",
   "execution_count": 36,
   "id": "52ea5b89",
   "metadata": {},
   "outputs": [
    {
     "data": {
      "text/plain": [
       "True"
      ]
     },
     "execution_count": 36,
     "metadata": {},
     "output_type": "execute_result"
    }
   ],
   "source": [
    "True "
   ]
  },
  {
   "cell_type": "code",
   "execution_count": 37,
   "id": "2db29e3d",
   "metadata": {},
   "outputs": [
    {
     "data": {
      "text/plain": [
       "False"
      ]
     },
     "execution_count": 37,
     "metadata": {},
     "output_type": "execute_result"
    }
   ],
   "source": [
    "False"
   ]
  },
  {
   "cell_type": "markdown",
   "id": "6bd484a4",
   "metadata": {},
   "source": [
    "#### Integers"
   ]
  },
  {
   "cell_type": "code",
   "execution_count": 46,
   "id": "dfa0c78f",
   "metadata": {},
   "outputs": [
    {
     "data": {
      "text/plain": [
       "5"
      ]
     },
     "execution_count": 46,
     "metadata": {},
     "output_type": "execute_result"
    }
   ],
   "source": [
    "2 + 3"
   ]
  },
  {
   "cell_type": "code",
   "execution_count": 47,
   "id": "94ea48cb",
   "metadata": {},
   "outputs": [],
   "source": [
    "a = 2\n",
    "b = 3"
   ]
  },
  {
   "cell_type": "code",
   "execution_count": 48,
   "id": "509e33a0",
   "metadata": {},
   "outputs": [
    {
     "data": {
      "text/plain": [
       "5"
      ]
     },
     "execution_count": 48,
     "metadata": {},
     "output_type": "execute_result"
    }
   ],
   "source": [
    "a + b"
   ]
  },
  {
   "cell_type": "code",
   "execution_count": 49,
   "id": "b830bc54",
   "metadata": {},
   "outputs": [
    {
     "data": {
      "text/plain": [
       "6"
      ]
     },
     "execution_count": 49,
     "metadata": {},
     "output_type": "execute_result"
    }
   ],
   "source": [
    "a * b"
   ]
  },
  {
   "cell_type": "code",
   "execution_count": 50,
   "id": "5af25278",
   "metadata": {},
   "outputs": [],
   "source": [
    "c = 10"
   ]
  },
  {
   "cell_type": "code",
   "execution_count": 51,
   "id": "15cf8db8",
   "metadata": {},
   "outputs": [
    {
     "data": {
      "text/plain": [
       "5.0"
      ]
     },
     "execution_count": 51,
     "metadata": {},
     "output_type": "execute_result"
    }
   ],
   "source": [
    "c / a"
   ]
  },
  {
   "cell_type": "code",
   "execution_count": 52,
   "id": "7e534ef0",
   "metadata": {},
   "outputs": [],
   "source": [
    "# If we multiply, add, subtract an integer from a float or vice versa, we get a float"
   ]
  },
  {
   "cell_type": "code",
   "execution_count": 53,
   "id": "685e45d5",
   "metadata": {},
   "outputs": [],
   "source": [
    "d = 5.0"
   ]
  },
  {
   "cell_type": "code",
   "execution_count": 54,
   "id": "057f546b",
   "metadata": {},
   "outputs": [
    {
     "data": {
      "text/plain": [
       "10.0"
      ]
     },
     "execution_count": 54,
     "metadata": {},
     "output_type": "execute_result"
    }
   ],
   "source": [
    "a * d"
   ]
  },
  {
   "cell_type": "code",
   "execution_count": 57,
   "id": "a12214fd",
   "metadata": {},
   "outputs": [],
   "source": [
    "# Modulus %\n",
    "# The Modulus operator performs a division and returns the remainder\n",
    "num1 = 15\n",
    "num2 = 20\n",
    "num3 = 2\n",
    "num4 = 3"
   ]
  },
  {
   "cell_type": "code",
   "execution_count": 56,
   "id": "ab3fb4f7",
   "metadata": {},
   "outputs": [
    {
     "data": {
      "text/plain": [
       "1"
      ]
     },
     "execution_count": 56,
     "metadata": {},
     "output_type": "execute_result"
    }
   ],
   "source": [
    "num1 % num3"
   ]
  },
  {
   "cell_type": "code",
   "execution_count": 58,
   "id": "ca89027f",
   "metadata": {},
   "outputs": [
    {
     "data": {
      "text/plain": [
       "2"
      ]
     },
     "execution_count": 58,
     "metadata": {},
     "output_type": "execute_result"
    }
   ],
   "source": [
    "num2 % num4"
   ]
  },
  {
   "cell_type": "code",
   "execution_count": 60,
   "id": "ae9047bb",
   "metadata": {},
   "outputs": [],
   "source": [
    "# Research on the floor Operator //"
   ]
  },
  {
   "cell_type": "code",
   "execution_count": 61,
   "id": "66af67c0",
   "metadata": {},
   "outputs": [
    {
     "data": {
      "text/plain": [
       "13.0"
      ]
     },
     "execution_count": 61,
     "metadata": {},
     "output_type": "execute_result"
    }
   ],
   "source": [
    "# Python Mathematical Operators follows the DMAS\n",
    "# BODMAS\n",
    "# PEMDAS\n",
    "\n",
    "result = 3+4/2*5\n",
    "result"
   ]
  },
  {
   "cell_type": "code",
   "execution_count": 62,
   "id": "70cbd688",
   "metadata": {},
   "outputs": [
    {
     "data": {
      "text/plain": [
       "1000"
      ]
     },
     "execution_count": 62,
     "metadata": {},
     "output_type": "execute_result"
    }
   ],
   "source": [
    "# Power Operator\n",
    "10 ** 3"
   ]
  },
  {
   "cell_type": "markdown",
   "id": "77177631",
   "metadata": {},
   "source": [
    "## String"
   ]
  },
  {
   "cell_type": "code",
   "execution_count": 64,
   "id": "9dd09082",
   "metadata": {},
   "outputs": [],
   "source": [
    "name = \"Joshua\"\n",
    "job  = \"Data Engineer\""
   ]
  },
  {
   "cell_type": "code",
   "execution_count": 65,
   "id": "d787bc69",
   "metadata": {},
   "outputs": [
    {
     "data": {
      "text/plain": [
       "'JoshuaJoshuaJoshua'"
      ]
     },
     "execution_count": 65,
     "metadata": {},
     "output_type": "execute_result"
    }
   ],
   "source": [
    "name * 3"
   ]
  },
  {
   "cell_type": "code",
   "execution_count": 67,
   "id": "b6a3138a",
   "metadata": {},
   "outputs": [
    {
     "data": {
      "text/plain": [
       "'abcabcabcabcabcabcabcabcabcabc'"
      ]
     },
     "execution_count": 67,
     "metadata": {},
     "output_type": "execute_result"
    }
   ],
   "source": [
    "num = 'abc'\n",
    "num * 10"
   ]
  },
  {
   "cell_type": "code",
   "execution_count": 69,
   "id": "a0389445",
   "metadata": {},
   "outputs": [
    {
     "name": "stdout",
     "output_type": "stream",
     "text": [
      "My name is Joshua\n"
     ]
    }
   ],
   "source": [
    "# String Formating\n",
    "\n",
    "print(\"My name is %s\" %name)\n"
   ]
  },
  {
   "cell_type": "code",
   "execution_count": 70,
   "id": "da77158a",
   "metadata": {},
   "outputs": [
    {
     "name": "stdout",
     "output_type": "stream",
     "text": [
      "Python Fundamentals is the topic we are taking now\n"
     ]
    }
   ],
   "source": [
    "topic = \"Python Fundamentals\"\n",
    "\n",
    "print(\"%s is the topic we are taking now\" %topic)"
   ]
  },
  {
   "cell_type": "code",
   "execution_count": 71,
   "id": "a645993f",
   "metadata": {},
   "outputs": [
    {
     "name": "stdout",
     "output_type": "stream",
     "text": [
      "My name is Joshua and i am a Data Engineer\n"
     ]
    }
   ],
   "source": [
    "# .format\n",
    "\n",
    "name = \"Joshua\"\n",
    "job  = \"Data Engineer\"\n",
    "\n",
    "print(\"My name is {} and i am a {}\".format(name, job))"
   ]
  },
  {
   "cell_type": "code",
   "execution_count": 74,
   "id": "b035f12b",
   "metadata": {},
   "outputs": [
    {
     "name": "stdout",
     "output_type": "stream",
     "text": [
      "My name is Joshua and i am a Data Engineer\n"
     ]
    }
   ],
   "source": [
    "print(\"My name is {} and i am a {}\".format(name, job))"
   ]
  },
  {
   "cell_type": "code",
   "execution_count": 77,
   "id": "ed07920f",
   "metadata": {
    "scrolled": true
   },
   "outputs": [
    {
     "name": "stdout",
     "output_type": "stream",
     "text": [
      " I am currently learning Python in 10Anlytics and my cohort is 13\n"
     ]
    }
   ],
   "source": [
    "school = \"10Anlytics\"\n",
    "course = \"Python\"\n",
    "cohort = 13\n",
    "\n",
    "print(\" I am currently learning {1} in {0} and my cohort is {2}\".format(school, course, cohort))"
   ]
  },
  {
   "cell_type": "code",
   "execution_count": 78,
   "id": "cd0aaebb",
   "metadata": {},
   "outputs": [
    {
     "name": "stdout",
     "output_type": "stream",
     "text": [
      "I am currently learning Python in 10Anlytics and my cohort is 13\n"
     ]
    }
   ],
   "source": [
    "print(f\"I am currently learning {course} in {school} and my cohort is {cohort}\")"
   ]
  },
  {
   "cell_type": "markdown",
   "id": "8233c557",
   "metadata": {},
   "source": [
    "### String Methods"
   ]
  },
  {
   "cell_type": "markdown",
   "id": "5718089f",
   "metadata": {},
   "source": [
    "- Methods are functions that can be performed on an object. \n",
    "- String methods are functions to be performed specifically on strings."
   ]
  },
  {
   "cell_type": "code",
   "execution_count": 84,
   "id": "651fbc8e",
   "metadata": {},
   "outputs": [],
   "source": [
    "name = \"Joshua\"\n",
    "job  = \"data engineer\""
   ]
  },
  {
   "cell_type": "code",
   "execution_count": 82,
   "id": "e52df915",
   "metadata": {},
   "outputs": [
    {
     "data": {
      "text/plain": [
       "'JOSHUA'"
      ]
     },
     "execution_count": 82,
     "metadata": {},
     "output_type": "execute_result"
    }
   ],
   "source": [
    "# Upper\n",
    "\n",
    "name.upper()"
   ]
  },
  {
   "cell_type": "code",
   "execution_count": 83,
   "id": "d62bbc2a",
   "metadata": {},
   "outputs": [
    {
     "data": {
      "text/plain": [
       "'joshua'"
      ]
     },
     "execution_count": 83,
     "metadata": {},
     "output_type": "execute_result"
    }
   ],
   "source": [
    "# Lower\n",
    "\n",
    "name.lower()"
   ]
  },
  {
   "cell_type": "code",
   "execution_count": 85,
   "id": "e544f202",
   "metadata": {},
   "outputs": [
    {
     "data": {
      "text/plain": [
       "'Data engineer'"
      ]
     },
     "execution_count": 85,
     "metadata": {},
     "output_type": "execute_result"
    }
   ],
   "source": [
    "job.capitalize()"
   ]
  },
  {
   "cell_type": "code",
   "execution_count": 86,
   "id": "b4ad84f1",
   "metadata": {},
   "outputs": [
    {
     "data": {
      "text/plain": [
       "13"
      ]
     },
     "execution_count": 86,
     "metadata": {},
     "output_type": "execute_result"
    }
   ],
   "source": [
    "len(job)"
   ]
  },
  {
   "cell_type": "code",
   "execution_count": 87,
   "id": "0a52b072",
   "metadata": {},
   "outputs": [
    {
     "data": {
      "text/plain": [
       "0"
      ]
     },
     "execution_count": 87,
     "metadata": {},
     "output_type": "execute_result"
    }
   ],
   "source": [
    "# index\n",
    "\n",
    "job.index(\"d\")"
   ]
  },
  {
   "cell_type": "code",
   "execution_count": 88,
   "id": "98fe92e5",
   "metadata": {},
   "outputs": [
    {
     "data": {
      "text/plain": [
       "2"
      ]
     },
     "execution_count": 88,
     "metadata": {},
     "output_type": "execute_result"
    }
   ],
   "source": [
    "job.index(\"t\")"
   ]
  },
  {
   "cell_type": "code",
   "execution_count": 89,
   "id": "4ce239e3",
   "metadata": {},
   "outputs": [
    {
     "data": {
      "text/plain": [
       "7"
      ]
     },
     "execution_count": 89,
     "metadata": {},
     "output_type": "execute_result"
    }
   ],
   "source": [
    "job.index(\"g\")"
   ]
  },
  {
   "cell_type": "code",
   "execution_count": 90,
   "id": "276ab6f8",
   "metadata": {},
   "outputs": [
    {
     "data": {
      "text/plain": [
       "5"
      ]
     },
     "execution_count": 90,
     "metadata": {},
     "output_type": "execute_result"
    }
   ],
   "source": [
    "job.index(\"e\")"
   ]
  },
  {
   "cell_type": "markdown",
   "id": "8aa01788",
   "metadata": {},
   "source": [
    "## Indexing and Slicing a String"
   ]
  },
  {
   "cell_type": "code",
   "execution_count": 91,
   "id": "91f12d30",
   "metadata": {},
   "outputs": [],
   "source": [
    "str1 = \"Amalgamation\"\n",
    "str2 = \"Trypanosomiasis\"\n"
   ]
  },
  {
   "cell_type": "code",
   "execution_count": 92,
   "id": "c8874d5b",
   "metadata": {},
   "outputs": [
    {
     "data": {
      "text/plain": [
       "'y'"
      ]
     },
     "execution_count": 92,
     "metadata": {},
     "output_type": "execute_result"
    }
   ],
   "source": [
    "str2[2]"
   ]
  },
  {
   "cell_type": "code",
   "execution_count": 93,
   "id": "6e836d01",
   "metadata": {},
   "outputs": [
    {
     "data": {
      "text/plain": [
       "'n'"
      ]
     },
     "execution_count": 93,
     "metadata": {},
     "output_type": "execute_result"
    }
   ],
   "source": [
    "str2[5]"
   ]
  },
  {
   "cell_type": "code",
   "execution_count": 94,
   "id": "98e4c221",
   "metadata": {},
   "outputs": [
    {
     "data": {
      "text/plain": [
       "'T'"
      ]
     },
     "execution_count": 94,
     "metadata": {},
     "output_type": "execute_result"
    }
   ],
   "source": [
    "str2[0]"
   ]
  },
  {
   "cell_type": "code",
   "execution_count": 95,
   "id": "ace850ea",
   "metadata": {},
   "outputs": [
    {
     "data": {
      "text/plain": [
       "'s'"
      ]
     },
     "execution_count": 95,
     "metadata": {},
     "output_type": "execute_result"
    }
   ],
   "source": [
    "str2[-1]"
   ]
  },
  {
   "cell_type": "code",
   "execution_count": 96,
   "id": "f4fedb01",
   "metadata": {},
   "outputs": [
    {
     "data": {
      "text/plain": [
       "'o'"
      ]
     },
     "execution_count": 96,
     "metadata": {},
     "output_type": "execute_result"
    }
   ],
   "source": [
    "str1[-2]"
   ]
  },
  {
   "cell_type": "code",
   "execution_count": 99,
   "id": "04005d71",
   "metadata": {},
   "outputs": [
    {
     "data": {
      "text/plain": [
       "'panos'"
      ]
     },
     "execution_count": 99,
     "metadata": {},
     "output_type": "execute_result"
    }
   ],
   "source": [
    "# Slicing\n",
    "\n",
    "str2 = \"Trypanosomiasis\"\n",
    "\n",
    "str2[3:8]"
   ]
  },
  {
   "cell_type": "code",
   "execution_count": 100,
   "id": "81ae919f",
   "metadata": {},
   "outputs": [
    {
     "data": {
      "text/plain": [
       "'Try'"
      ]
     },
     "execution_count": 100,
     "metadata": {},
     "output_type": "execute_result"
    }
   ],
   "source": [
    "str2[0:3]"
   ]
  },
  {
   "cell_type": "code",
   "execution_count": 101,
   "id": "6e186841",
   "metadata": {},
   "outputs": [
    {
     "data": {
      "text/plain": [
       "'Try'"
      ]
     },
     "execution_count": 101,
     "metadata": {},
     "output_type": "execute_result"
    }
   ],
   "source": [
    "str2[:3]"
   ]
  },
  {
   "cell_type": "code",
   "execution_count": 102,
   "id": "c9e18cca",
   "metadata": {},
   "outputs": [
    {
     "data": {
      "text/plain": [
       "'nosomiasis'"
      ]
     },
     "execution_count": 102,
     "metadata": {},
     "output_type": "execute_result"
    }
   ],
   "source": [
    "str2[5:]"
   ]
  },
  {
   "cell_type": "code",
   "execution_count": 103,
   "id": "93a18a51",
   "metadata": {},
   "outputs": [],
   "source": [
    "## Assignment\n",
    "# Practice negative Slicing"
   ]
  },
  {
   "cell_type": "markdown",
   "id": "71f6e438",
   "metadata": {},
   "source": [
    "## String Operations"
   ]
  },
  {
   "cell_type": "code",
   "execution_count": 105,
   "id": "00eb7d3e",
   "metadata": {},
   "outputs": [
    {
     "name": "stdout",
     "output_type": "stream",
     "text": [
      "Today is sunday And i was home having a restful weekend\n"
     ]
    }
   ],
   "source": [
    "a = \"Today is sunday\"\n",
    "b = \"And i was home having a restful weekend\"\n",
    "\n",
    "print(a +\" \" + b)"
   ]
  },
  {
   "cell_type": "code",
   "execution_count": 106,
   "id": "a651642a",
   "metadata": {},
   "outputs": [
    {
     "name": "stdout",
     "output_type": "stream",
     "text": [
      "Today is sunday And i was home having a restful weekend\n"
     ]
    }
   ],
   "source": [
    "print(a,b)"
   ]
  },
  {
   "cell_type": "code",
   "execution_count": 108,
   "id": "68f58940",
   "metadata": {},
   "outputs": [
    {
     "data": {
      "text/plain": [
       "['Joshua', 'Kolawole-Jaykay']"
      ]
     },
     "execution_count": 108,
     "metadata": {},
     "output_type": "execute_result"
    }
   ],
   "source": [
    "name = \"Joshua Kolawole-Jaykay\"\n",
    "name.split(\" \")"
   ]
  },
  {
   "cell_type": "code",
   "execution_count": 111,
   "id": "604d3404",
   "metadata": {},
   "outputs": [
    {
     "data": {
      "text/plain": [
       "['Joshua', 'Kolawole', 'Jaykay']"
      ]
     },
     "execution_count": 111,
     "metadata": {},
     "output_type": "execute_result"
    }
   ],
   "source": [
    "name1 = \"Joshua-Kolawole-Jaykay\"\n",
    "name1.split(\"-\")"
   ]
  },
  {
   "cell_type": "code",
   "execution_count": 114,
   "id": "13d77c32",
   "metadata": {},
   "outputs": [],
   "source": [
    "# Assignment\n",
    "# If you have multiple strings\n",
    "# How do you combine together using string method "
   ]
  },
  {
   "cell_type": "code",
   "execution_count": 115,
   "id": "8138fba4",
   "metadata": {},
   "outputs": [],
   "source": [
    "# Research on how to split different delimiters in a single string using string methods "
   ]
  }
 ],
 "metadata": {
  "kernelspec": {
   "display_name": "Python 3 (ipykernel)",
   "language": "python",
   "name": "python3"
  },
  "language_info": {
   "codemirror_mode": {
    "name": "ipython",
    "version": 3
   },
   "file_extension": ".py",
   "mimetype": "text/x-python",
   "name": "python",
   "nbconvert_exporter": "python",
   "pygments_lexer": "ipython3",
   "version": "3.10.9"
  }
 },
 "nbformat": 4,
 "nbformat_minor": 5
}
