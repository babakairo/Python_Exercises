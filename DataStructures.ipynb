{
 "cells": [
  {
   "cell_type": "markdown",
   "id": "af31e40d-6999-41ae-a6f1-4bba21d60e3d",
   "metadata": {},
   "source": [
    "Variables\n",
    " A variable is a like a container where you house or keep an object"
   ]
  },
  {
   "cell_type": "code",
   "execution_count": 8,
   "id": "0f921604-7d38-46f0-9dd6-43805bb312d3",
   "metadata": {},
   "outputs": [],
   "source": [
    "a = 'good morning peeps'"
   ]
  },
  {
   "cell_type": "code",
   "execution_count": 9,
   "id": "3b2d6b57-88b9-4ff6-bc3e-8a6fa51e9945",
   "metadata": {},
   "outputs": [
    {
     "name": "stdout",
     "output_type": "stream",
     "text": [
      "good morning peeps\n"
     ]
    }
   ],
   "source": [
    "print(a)"
   ]
  },
  {
   "cell_type": "code",
   "execution_count": 10,
   "id": "8d29665b-41b4-47eb-b18c-10dd3695fd7c",
   "metadata": {},
   "outputs": [
    {
     "name": "stdout",
     "output_type": "stream",
     "text": [
      "10analytics\n",
      "13\n"
     ]
    }
   ],
   "source": [
    "school = '10analytics'\n",
    "cohort = 13\n",
    "\n",
    "print (school)\n",
    "print(cohort)"
   ]
  },
  {
   "cell_type": "code",
   "execution_count": 11,
   "id": "6b688a4b-9798-4016-a931-a7c0fc9b460a",
   "metadata": {},
   "outputs": [],
   "source": [
    "num1 = 15\n",
    "num2 = 20\n",
    "num3 = 3"
   ]
  },
  {
   "cell_type": "code",
   "execution_count": 12,
   "id": "7fd9fe87-2f7f-43e1-8504-059cb0038df1",
   "metadata": {},
   "outputs": [
    {
     "data": {
      "text/plain": [
       "2"
      ]
     },
     "execution_count": 12,
     "metadata": {},
     "output_type": "execute_result"
    }
   ],
   "source": [
    "num2 % num3"
   ]
  },
  {
   "cell_type": "code",
   "execution_count": 14,
   "id": "83eec8d4-2198-4c43-93fc-80f60049e1f0",
   "metadata": {},
   "outputs": [
    {
     "name": "stdout",
     "output_type": "stream",
     "text": [
      "My name is kairo maunga \n"
     ]
    }
   ],
   "source": [
    "name = 'kairo'\n",
    "surname ='maunga'\n",
    "\n",
    "print(\"My name is {0} {1} \".format(name, surname))"
   ]
  },
  {
   "cell_type": "code",
   "execution_count": 17,
   "id": "b73a2631-94f4-4016-b425-afc4d73654cc",
   "metadata": {},
   "outputs": [
    {
     "name": "stdout",
     "output_type": "stream",
     "text": [
      "My name is kairo maunga\n"
     ]
    }
   ],
   "source": [
    "print(f\"My name is {name} {surname}\")"
   ]
  },
  {
   "cell_type": "markdown",
   "id": "7042061c-f800-4155-9dd7-a60ad6bd50e2",
   "metadata": {},
   "source": [
    "#string methods"
   ]
  },
  {
   "cell_type": "code",
   "execution_count": 18,
   "id": "29b02621-c53c-4a78-be69-dc553ad8b405",
   "metadata": {},
   "outputs": [
    {
     "data": {
      "text/plain": [
       "'kairo'"
      ]
     },
     "execution_count": 18,
     "metadata": {},
     "output_type": "execute_result"
    }
   ],
   "source": [
    "name"
   ]
  },
  {
   "cell_type": "code",
   "execution_count": 19,
   "id": "8eea1740-89a1-4b1b-9888-f55b40ce12c9",
   "metadata": {},
   "outputs": [
    {
     "data": {
      "text/plain": [
       "'KAIRO'"
      ]
     },
     "execution_count": 19,
     "metadata": {},
     "output_type": "execute_result"
    }
   ],
   "source": [
    "name.upper()"
   ]
  },
  {
   "cell_type": "code",
   "execution_count": 20,
   "id": "0bf2c6b1-78e2-40bb-b84b-15c1dc113650",
   "metadata": {},
   "outputs": [
    {
     "data": {
      "text/plain": [
       "'kairo'"
      ]
     },
     "execution_count": 20,
     "metadata": {},
     "output_type": "execute_result"
    }
   ],
   "source": [
    "name.lower()"
   ]
  },
  {
   "cell_type": "code",
   "execution_count": 21,
   "id": "c72ec931-49ce-47cd-b3bd-4c1e9a5cf9cc",
   "metadata": {},
   "outputs": [
    {
     "data": {
      "text/plain": [
       "'Kairo'"
      ]
     },
     "execution_count": 21,
     "metadata": {},
     "output_type": "execute_result"
    }
   ],
   "source": [
    "name.capitalize()"
   ]
  },
  {
   "cell_type": "code",
   "execution_count": 22,
   "id": "47813b44-5182-412e-9804-e9aec5e9eaf0",
   "metadata": {},
   "outputs": [
    {
     "data": {
      "text/plain": [
       "2"
      ]
     },
     "execution_count": 22,
     "metadata": {},
     "output_type": "execute_result"
    }
   ],
   "source": [
    "name.index(\"i\")"
   ]
  },
  {
   "cell_type": "markdown",
   "id": "311b5b2a-3135-4b66-9935-7345b7e3f448",
   "metadata": {},
   "source": [
    "Indexing and Slicing a String"
   ]
  },
  {
   "cell_type": "code",
   "execution_count": 2,
   "id": "e93896c0-97a9-4457-9d5a-074e6d7db58a",
   "metadata": {},
   "outputs": [
    {
     "name": "stdout",
     "output_type": "stream",
     "text": [
      "Hello World\n"
     ]
    }
   ],
   "source": [
    "print('Hello World')"
   ]
  },
  {
   "cell_type": "code",
   "execution_count": 25,
   "id": "d2dbc862-f928-4f06-abf1-120bb46c7e24",
   "metadata": {},
   "outputs": [],
   "source": [
    "str1 = \"Objectorientedprogramming\"\n",
    "str2 = \"Expandriation\""
   ]
  },
  {
   "cell_type": "code",
   "execution_count": 26,
   "id": "cee27988-7edc-419e-a45a-ef7661e957eb",
   "metadata": {},
   "outputs": [
    {
     "data": {
      "text/plain": [
       "'a'"
      ]
     },
     "execution_count": 26,
     "metadata": {},
     "output_type": "execute_result"
    }
   ],
   "source": [
    "str2[8]"
   ]
  },
  {
   "cell_type": "code",
   "execution_count": 27,
   "id": "81532e7c-d845-4f94-ba43-836f56df92cc",
   "metadata": {},
   "outputs": [
    {
     "data": {
      "text/plain": [
       "'i'"
      ]
     },
     "execution_count": 27,
     "metadata": {},
     "output_type": "execute_result"
    }
   ],
   "source": [
    "str2[-3]"
   ]
  },
  {
   "cell_type": "code",
   "execution_count": 29,
   "id": "261f245c-0baf-4b4f-9ec5-4a272b318fec",
   "metadata": {},
   "outputs": [
    {
     "data": {
      "text/plain": [
       "slice(None, 'Expand', None)"
      ]
     },
     "execution_count": 29,
     "metadata": {},
     "output_type": "execute_result"
    }
   ],
   "source": [
    "slice(str2[:6])"
   ]
  },
  {
   "cell_type": "code",
   "execution_count": 33,
   "id": "e33e9e70-9b0a-45bb-8d32-5e64544f22f3",
   "metadata": {},
   "outputs": [
    {
     "data": {
      "text/plain": [
       "['Kairo', 'Khloe', 'Perseverance', 'Enos']"
      ]
     },
     "execution_count": 33,
     "metadata": {},
     "output_type": "execute_result"
    }
   ],
   "source": [
    "name = (\"Kairo Khloe Perseverance Enos\" )\n",
    "name.split(\" \")"
   ]
  },
  {
   "cell_type": "code",
   "execution_count": 40,
   "id": "0bd71d10-5612-4798-9e00-06f09405f6c2",
   "metadata": {},
   "outputs": [
    {
     "name": "stdout",
     "output_type": "stream",
     "text": [
      "<<<[[[Cool]]]>>>\n"
     ]
    }
   ],
   "source": [
    "chars = \"<<<[[[]]]>>>\"\n",
    "word = \"Cool\"\n",
    "size = len(chars)\n",
    "syz = int(size / 2)\n",
    "print(chars[:syz] + word + chars[syz:])\n"
   ]
  },
  {
   "cell_type": "code",
   "execution_count": 42,
   "id": "a85fe617-1f8f-43c6-8982-f60253eb91f7",
   "metadata": {},
   "outputs": [
    {
     "name": "stdout",
     "output_type": "stream",
     "text": [
      "[1, 2, 3, 4, 5]\n",
      "<class 'list'>\n"
     ]
    }
   ],
   "source": [
    "my_list = [1,2,3,4,5]\n",
    "\n",
    "print(my_list)\n",
    "\n",
    "print(type(my_list))"
   ]
  },
  {
   "cell_type": "code",
   "execution_count": 45,
   "id": "0a6c3942-0331-4401-abb7-846203e26ac5",
   "metadata": {},
   "outputs": [
    {
     "name": "stdout",
     "output_type": "stream",
     "text": [
      "2\n",
      "[1, 3]\n"
     ]
    }
   ],
   "source": [
    "print(my_list.pop(1))\n",
    "print(my_list)"
   ]
  },
  {
   "cell_type": "code",
   "execution_count": 49,
   "id": "6e6529fd-ef14-4621-bd44-bea49c3cacc5",
   "metadata": {},
   "outputs": [
    {
     "name": "stdout",
     "output_type": "stream",
     "text": [
      "[['love', 'kairo', 'khloe'], 3]\n"
     ]
    }
   ],
   "source": [
    "my_list[0] = ['love', 'kairo', 'khloe']\n",
    "print(my_list)"
   ]
  },
  {
   "cell_type": "code",
   "execution_count": 51,
   "id": "e0b4520e-ed40-4739-911f-bcf994a15b91",
   "metadata": {},
   "outputs": [
    {
     "name": "stdout",
     "output_type": "stream",
     "text": [
      "[['love', 'kairo', 'khloe'], 3, 'this is a sentence']\n"
     ]
    }
   ],
   "source": [
    "my_list.append(\"this is a sentence\")\n",
    "sentence = my_list.pop(2)\n",
    "print(my_list)"
   ]
  },
  {
   "cell_type": "code",
   "execution_count": 52,
   "id": "91c45301-dead-471a-b0f8-0132e5e7cf7d",
   "metadata": {},
   "outputs": [
    {
     "name": "stdout",
     "output_type": "stream",
     "text": [
      "this is a sentence\n"
     ]
    }
   ],
   "source": [
    "print(sentence)"
   ]
  },
  {
   "cell_type": "code",
   "execution_count": 56,
   "id": "aa3cdff2-5f36-415f-a27b-f7cf57d909b2",
   "metadata": {},
   "outputs": [
    {
     "name": "stdout",
     "output_type": "stream",
     "text": [
      "[2, 2, 2, 3, 4, 5, 5, 6, 6, 6, 8, 8, 8]\n"
     ]
    }
   ],
   "source": [
    "my_list = [3,4,2,6,5,8,]\n",
    "my_list.sort()\n",
    "print(my_list)"
   ]
  },
  {
   "cell_type": "code",
   "execution_count": 59,
   "id": "50443d56-82ab-4f89-9d63-da0a63e91f4c",
   "metadata": {},
   "outputs": [
    {
     "name": "stdout",
     "output_type": "stream",
     "text": [
      "[2, 3, 4]\n"
     ]
    }
   ],
   "source": [
    "my_list.reverse()\n",
    "print(my_list[2:5])"
   ]
  },
  {
   "cell_type": "code",
   "execution_count": 60,
   "id": "4c819ec1-3ae5-4ba3-929e-9a39c8577fc4",
   "metadata": {},
   "outputs": [
    {
     "name": "stdout",
     "output_type": "stream",
     "text": [
      "13\n"
     ]
    }
   ],
   "source": [
    "item_count = len(my_list)\n",
    "print(item_count)"
   ]
  },
  {
   "cell_type": "code",
   "execution_count": 64,
   "id": "bd8713ad-8623-49d3-a8f3-fc759e959942",
   "metadata": {},
   "outputs": [
    {
     "name": "stdout",
     "output_type": "stream",
     "text": [
      "['d', 'f', 'y', 'g', 'v', 'd', 's', 't', 2, 2, 2, 3, 4, 5, 5, 6, 6, 6, 8, 8, 8]\n"
     ]
    }
   ],
   "source": [
    "another_list = ['d','f','y','g','v','d','s','t']\n",
    "print(another_list + my_list)"
   ]
  },
  {
   "cell_type": "code",
   "execution_count": 80,
   "id": "fda2ffed-6059-4f58-b0e5-0dcb7fc7ac79",
   "metadata": {},
   "outputs": [
    {
     "name": "stdout",
     "output_type": "stream",
     "text": [
      "['d', 'b', 'a', 3, 2, 1]\n"
     ]
    }
   ],
   "source": [
    "my_list = ['b','d','a','z','x']\n",
    "my_list.sort()\n",
    "my_list.reverse()\n",
    "another_list = [1,2,3,4,5]\n",
    "another_list.reverse()\n",
    "new_list = my_list[2:] + another_list[2:]\n",
    "print(new_list)"
   ]
  },
  {
   "cell_type": "code",
   "execution_count": 85,
   "id": "7b1928b7-2650-4261-8ff6-cce8072a5d43",
   "metadata": {},
   "outputs": [
    {
     "name": "stdout",
     "output_type": "stream",
     "text": [
      "joe\n"
     ]
    }
   ],
   "source": [
    "mixed_list = [1, \"Hello\", 3.14,['apple','orange',['john','robert'],'banana'],True, [5, 6, 7]]\n",
    "mixed_list[3][2][1] = 'joe'\n",
    "test = mixed_list[3][2][1]\n",
    "print(test)"
   ]
  },
  {
   "cell_type": "code",
   "execution_count": 86,
   "id": "9fb7b74e-6ae7-46c1-81a4-3242c2fbdcf0",
   "metadata": {},
   "outputs": [
    {
     "name": "stdout",
     "output_type": "stream",
     "text": [
      "[1, 'Hello', 3.14, ['apple', 'orange', ['john', 'joe'], 'banana'], True, [5, 6, 7]]\n"
     ]
    }
   ],
   "source": [
    "print(mixed_list)"
   ]
  },
  {
   "cell_type": "code",
   "execution_count": 88,
   "id": "5b50cd58-9711-4c0f-9ae0-fad964ce8da0",
   "metadata": {},
   "outputs": [
    {
     "name": "stdout",
     "output_type": "stream",
     "text": [
      "3\n"
     ]
    }
   ],
   "source": [
    "my_list = ['a','b','c','d','e','c','c']\n",
    "idx_pos = my_list.index('c')\n",
    "c_count = my_list.count('c')\n",
    "print(c_count)"
   ]
  },
  {
   "cell_type": "code",
   "execution_count": 92,
   "id": "fc211ee5-7420-40a8-b93d-374e0e78c578",
   "metadata": {},
   "outputs": [
    {
     "name": "stdout",
     "output_type": "stream",
     "text": [
      "[3, 3, 'changed', 6, 7]\n"
     ]
    }
   ],
   "source": [
    "#tuples\n",
    "my_tuple = (1,2,3,4,5,6,7,[3,3,5,6,7])\n",
    "my_tuple[7][2] = 'changed'\n",
    "print(my_tuple[7])"
   ]
  },
  {
   "cell_type": "code",
   "execution_count": 95,
   "id": "116f0150-a96b-4d3c-9a89-cd0acad949df",
   "metadata": {},
   "outputs": [
    {
     "name": "stdout",
     "output_type": "stream",
     "text": [
      "new value\n"
     ]
    }
   ],
   "source": [
    "#dictionaries\n",
    "dict = {'k1':'some data', 'k2':[3,5,6]}\n",
    "dict['k2'] = 'new value'\n",
    "print(dict['k2'])"
   ]
  },
  {
   "cell_type": "code",
   "execution_count": 112,
   "id": "f85dea78-ac92-4943-8a8b-f3b70201bdaa",
   "metadata": {},
   "outputs": [
    {
     "name": "stdout",
     "output_type": "stream",
     "text": [
      "{'Alice': 65.5, 'Bob': 60.2, 'Charlie': 80.0, 'Diana': 60.8, 'items': ['orange', 'banana', {'ki': 'some value'}], 'tuple': (1, 2, 3, 4, 5), 'Rose': 85.2}\n",
      "68.3\n"
     ]
    }
   ],
   "source": [
    "people_weights = {\n",
    "    'Alice': 65.5,\n",
    "    'Bob': 75.2,\n",
    "    'Charlie': 80.0,\n",
    "    'Diana': 60.8,\n",
    "    'Eve': 68.3,\n",
    "    'items':['orange','banana',{'ki':'some value'}],\n",
    "    'tuple':(1,2,3,4,5)\n",
    "}\n",
    "people_weights['Bob'] = 60.2\n",
    "eve = people_weights.pop('Eve')\n",
    "people_weights['Rose'] = 85.2\n",
    "print(people_weights)\n",
    "print(eve)"
   ]
  },
  {
   "cell_type": "code",
   "execution_count": 111,
   "id": "7d0baecc-2178-4330-8238-ad9dc6051acd",
   "metadata": {},
   "outputs": [
    {
     "name": "stdout",
     "output_type": "stream",
     "text": [
      "some value\n"
     ]
    }
   ],
   "source": [
    "print(people_weights['items'][2]['ki'])"
   ]
  },
  {
   "cell_type": "code",
   "execution_count": 114,
   "id": "562ebe8e-f981-4a4b-a85f-2999a8e26481",
   "metadata": {},
   "outputs": [
    {
     "name": "stdout",
     "output_type": "stream",
     "text": [
      "4\n"
     ]
    }
   ],
   "source": [
    "my_tuple= people_weights['tuple']\n",
    "print(my_tuple[3])"
   ]
  },
  {
   "cell_type": "code",
   "execution_count": 115,
   "id": "09d9949a-96c9-45ba-be74-20b38a375a2a",
   "metadata": {},
   "outputs": [
    {
     "name": "stdout",
     "output_type": "stream",
     "text": [
      "True\n"
     ]
    }
   ],
   "source": [
    "#logical and comparison operators\n",
    "print(not False)"
   ]
  },
  {
   "cell_type": "code",
   "execution_count": 116,
   "id": "bb7bb827-e53c-421b-bdc4-d5cde05c1103",
   "metadata": {},
   "outputs": [
    {
     "name": "stdout",
     "output_type": "stream",
     "text": [
      "False\n"
     ]
    }
   ],
   "source": [
    "print(not True)"
   ]
  },
  {
   "cell_type": "code",
   "execution_count": 118,
   "id": "38e36294-7215-455b-9410-b75f46d0fc4f",
   "metadata": {},
   "outputs": [
    {
     "name": "stdout",
     "output_type": "stream",
     "text": [
      "<class 'bool'>\n"
     ]
    }
   ],
   "source": [
    "condition = not (5 == 5)\n",
    "print( type(condition) )"
   ]
  },
  {
   "cell_type": "code",
   "execution_count": null,
   "id": "6d1a4a60-da13-41df-bba2-b1d841b11e8b",
   "metadata": {},
   "outputs": [],
   "source": [
    "#Assignments"
   ]
  },
  {
   "cell_type": "code",
   "execution_count": null,
   "id": "583a8275-f2c1-48e1-aadb-298321298703",
   "metadata": {},
   "outputs": [],
   "source": []
  },
  {
   "cell_type": "code",
   "execution_count": null,
   "id": "7175bf04-1b76-435f-9452-feef9b0e41f8",
   "metadata": {},
   "outputs": [],
   "source": []
  },
  {
   "cell_type": "code",
   "execution_count": null,
   "id": "e6f6fb93-e10d-4b3b-bf89-9b173c2fbfb5",
   "metadata": {},
   "outputs": [],
   "source": []
  },
  {
   "cell_type": "code",
   "execution_count": null,
   "id": "32023044-42b6-4836-a796-bfe2176dd86c",
   "metadata": {},
   "outputs": [],
   "source": []
  },
  {
   "cell_type": "code",
   "execution_count": null,
   "id": "6dbd090b-2e0d-4487-abcd-92206f09131a",
   "metadata": {},
   "outputs": [],
   "source": []
  },
  {
   "cell_type": "code",
   "execution_count": null,
   "id": "a871c57d-ce5d-4718-b4d7-64d2357b9a9e",
   "metadata": {},
   "outputs": [],
   "source": []
  },
  {
   "cell_type": "code",
   "execution_count": null,
   "id": "ba4efeaa-5551-446e-ba2b-6ba72bcdca1b",
   "metadata": {},
   "outputs": [],
   "source": []
  }
 ],
 "metadata": {
  "kernelspec": {
   "display_name": "Python 3 (ipykernel)",
   "language": "python",
   "name": "python3"
  },
  "language_info": {
   "codemirror_mode": {
    "name": "ipython",
    "version": 3
   },
   "file_extension": ".py",
   "mimetype": "text/x-python",
   "name": "python",
   "nbconvert_exporter": "python",
   "pygments_lexer": "ipython3",
   "version": "3.10.12"
  }
 },
 "nbformat": 4,
 "nbformat_minor": 5
}
