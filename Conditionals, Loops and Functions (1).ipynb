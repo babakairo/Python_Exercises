{
 "cells": [
  {
   "cell_type": "markdown",
   "metadata": {},
   "source": [
    "## Conditions\n",
    "There are times you may want to execute some set of codes only if a condition is met."
   ]
  },
  {
   "cell_type": "markdown",
   "metadata": {},
   "source": [
    "### Assignment Operator\n",
    "- assign (=)\n",
    "\n",
    "### Comparison Operators\n",
    "- greater than (>)\n",
    "- greater than or equal to (>=)\n",
    "- less than (<)\n",
    "- less than or equal to (<=)\n",
    "- equal to (==)\n",
    "- not equal to (!=)"
   ]
  },
  {
   "cell_type": "code",
   "execution_count": null,
   "metadata": {},
   "outputs": [],
   "source": [
    "2 = 5"
   ]
  },
  {
   "cell_type": "code",
   "execution_count": null,
   "metadata": {},
   "outputs": [],
   "source": []
  },
  {
   "cell_type": "code",
   "execution_count": 1,
   "metadata": {},
   "outputs": [
    {
     "data": {
      "text/plain": [
       "True"
      ]
     },
     "execution_count": 1,
     "metadata": {},
     "output_type": "execute_result"
    }
   ],
   "source": [
    "2 == 2"
   ]
  },
  {
   "cell_type": "code",
   "execution_count": 3,
   "metadata": {},
   "outputs": [
    {
     "data": {
      "text/plain": [
       "False"
      ]
     },
     "execution_count": 3,
     "metadata": {},
     "output_type": "execute_result"
    }
   ],
   "source": [
    "'Timi' == 'timi' "
   ]
  },
  {
   "cell_type": "code",
   "execution_count": 4,
   "metadata": {},
   "outputs": [
    {
     "data": {
      "text/plain": [
       "True"
      ]
     },
     "execution_count": 4,
     "metadata": {},
     "output_type": "execute_result"
    }
   ],
   "source": [
    "6 <= 9"
   ]
  },
  {
   "cell_type": "code",
   "execution_count": 5,
   "metadata": {},
   "outputs": [
    {
     "data": {
      "text/plain": [
       "True"
      ]
     },
     "execution_count": 5,
     "metadata": {},
     "output_type": "execute_result"
    }
   ],
   "source": [
    "'Monday' != 'Tuesday'"
   ]
  },
  {
   "cell_type": "code",
   "execution_count": null,
   "metadata": {},
   "outputs": [],
   "source": [
    "item1 = '1234'\n",
    "item2 = 1234\n",
    "\n",
    "item1 == item2"
   ]
  },
  {
   "cell_type": "markdown",
   "metadata": {},
   "source": [
    "### Conditional Statements\n",
    "\n",
    "#### If Statements\n",
    "`if condition:`<br>\n",
    "&nbsp;&nbsp;&nbsp;&nbsp;&nbsp;&nbsp;&nbsp;`statement_to_execute`"
   ]
  },
  {
   "cell_type": "code",
   "execution_count": 24,
   "metadata": {},
   "outputs": [
    {
     "name": "stdout",
     "output_type": "stream",
     "text": [
      "Color is Red\n",
      "Problem Solved\n"
     ]
    }
   ],
   "source": [
    "col='red'\n",
    "if col=='red':\n",
    "    print('Color is Red')\n",
    "print('Problem Solved')"
   ]
  },
  {
   "cell_type": "code",
   "execution_count": 3,
   "metadata": {},
   "outputs": [
    {
     "name": "stdout",
     "output_type": "stream",
     "text": [
      "Number is Negative\n"
     ]
    }
   ],
   "source": [
    "num=-5\n",
    "if num<=0:\n",
    "    print('Number is Negative')"
   ]
  },
  {
   "cell_type": "markdown",
   "metadata": {},
   "source": [
    "#### Example 1: A compilation of items to be purchased have been compiled by a shopper together with the quantity. Add 6 pencils to the list if it hasn't been included and get the total items"
   ]
  },
  {
   "cell_type": "code",
   "execution_count": 10,
   "metadata": {},
   "outputs": [],
   "source": [
    "shoppers_dictionary = { # dictionary\n",
    "    'a4_papers': 10\n",
    "    , 'markers': 6\n",
    "    , 'pens': 12\n",
    "}"
   ]
  },
  {
   "cell_type": "code",
   "execution_count": 11,
   "metadata": {},
   "outputs": [
    {
     "name": "stdout",
     "output_type": "stream",
     "text": [
      "{'a4_papers': 10, 'markers': 6, 'pens': 12, 'pencils': 6}\n"
     ]
    }
   ],
   "source": [
    "# if pencils is not in shoppers list, add 6 pencils to the list \n",
    "\n",
    "\n",
    "if 'pencils' not in shoppers_dictionary:\n",
    "    shoppers_dictionary['pencils'] = 6\n",
    "    print(shoppers_dictionary)"
   ]
  },
  {
   "cell_type": "code",
   "execution_count": null,
   "metadata": {},
   "outputs": [],
   "source": [
    "# get total items\n",
    "\n",
    "total = shoppers_dictionary['a4_papers']  + shoppers_dictionary['markers'] + shoppers_dictionary['pens']"
   ]
  },
  {
   "cell_type": "markdown",
   "metadata": {},
   "source": [
    "##### Quiz 1: Verify the total score of the student (given below) is correct. If it is not, replace the value of the total score with the correct value"
   ]
  },
  {
   "cell_type": "code",
   "execution_count": 6,
   "metadata": {},
   "outputs": [],
   "source": [
    "student = {\n",
    "    'name': 'Quadri'\n",
    "    , 'age': 22\n",
    "    , 'subject1': 24\n",
    "    , 'subject2': 20\n",
    "    , 'subject3': 19\n",
    "    , 'total_score': 0\n",
    "}"
   ]
  },
  {
   "cell_type": "code",
   "execution_count": 7,
   "metadata": {},
   "outputs": [],
   "source": [
    "totals = student['subject1'] + student['subject2'] + student['subject3']"
   ]
  },
  {
   "cell_type": "code",
   "execution_count": 8,
   "metadata": {},
   "outputs": [
    {
     "name": "stdout",
     "output_type": "stream",
     "text": [
      "it is not correct\n"
     ]
    }
   ],
   "source": [
    "if totals !=  student['total_score']: # comparison\n",
    "    print('it is not correct') # tell us something\n",
    "    student['total_score'] = totals # do the replacement"
   ]
  },
  {
   "cell_type": "code",
   "execution_count": 9,
   "metadata": {},
   "outputs": [
    {
     "data": {
      "text/plain": [
       "{'name': 'Quadri',\n",
       " 'age': 22,\n",
       " 'subject1': 24,\n",
       " 'subject2': 20,\n",
       " 'subject3': 19,\n",
       " 'total_score': 63}"
      ]
     },
     "execution_count": 9,
     "metadata": {},
     "output_type": "execute_result"
    }
   ],
   "source": [
    "student"
   ]
  },
  {
   "cell_type": "markdown",
   "metadata": {},
   "source": [
    "#### If and else statements\n",
    "`if condition:`<br>\n",
    "&nbsp;&nbsp;&nbsp;&nbsp;&nbsp;&nbsp;&nbsp;`do_this`<br>\n",
    "`else:`<br>\n",
    "&nbsp;&nbsp;&nbsp;&nbsp;&nbsp;&nbsp;&nbsp;`do_that`"
   ]
  },
  {
   "cell_type": "code",
   "execution_count": 5,
   "metadata": {},
   "outputs": [
    {
     "name": "stdout",
     "output_type": "stream",
     "text": [
      "Number is Negative\n"
     ]
    }
   ],
   "source": [
    "if num>=0:\n",
    "    print('Number is Positive')\n",
    "else:\n",
    "    print('Number is Negative')"
   ]
  },
  {
   "cell_type": "code",
   "execution_count": 6,
   "metadata": {},
   "outputs": [
    {
     "name": "stdout",
     "output_type": "stream",
     "text": [
      "Juvenile\n"
     ]
    }
   ],
   "source": [
    "age=15\n",
    "if age>=18:\n",
    "    print('Adult')\n",
    "else:\n",
    "    print('Juvenile')"
   ]
  },
  {
   "cell_type": "code",
   "execution_count": 8,
   "metadata": {},
   "outputs": [
    {
     "name": "stdout",
     "output_type": "stream",
     "text": [
      "Color is red\n",
      "Color issues resolved\n"
     ]
    }
   ],
   "source": [
    "if col=='green':\n",
    "    print('Color is green')\n",
    "else:\n",
    "    print('Color is red')\n",
    "print('Color issues resolved')"
   ]
  },
  {
   "cell_type": "code",
   "execution_count": null,
   "metadata": {},
   "outputs": [],
   "source": [
    "country = 'Nigeria'\n",
    "\n",
    "if country == 'Ghana':\n",
    "    print('Capital is Accra')\n",
    "else:\n",
    "    print(\"I don't know\")"
   ]
  },
  {
   "cell_type": "markdown",
   "metadata": {},
   "source": [
    "#### Example 2: Given the details below of an employee, write a conditional statement to:\n",
    "    - check if the full name is properly given (not an empty string)\n",
    "    - if the check passes, add 1500 to their salary, otherwise subtract 300 from their salary"
   ]
  },
  {
   "cell_type": "code",
   "execution_count": 12,
   "metadata": {},
   "outputs": [],
   "source": [
    "employee = {\n",
    "    'fullname': ''\n",
    "    , 'salary': 3000\n",
    "    , 'job_title': 'Data Engineer'\n",
    "}"
   ]
  },
  {
   "cell_type": "code",
   "execution_count": 13,
   "metadata": {},
   "outputs": [
    {
     "data": {
      "text/plain": [
       "False"
      ]
     },
     "execution_count": 13,
     "metadata": {},
     "output_type": "execute_result"
    }
   ],
   "source": [
    "employee['fullname'] != ''"
   ]
  },
  {
   "cell_type": "code",
   "execution_count": 14,
   "metadata": {},
   "outputs": [
    {
     "name": "stdout",
     "output_type": "stream",
     "text": [
      "2700\n"
     ]
    }
   ],
   "source": [
    "if employee['fullname'] != '':  # false\n",
    "    total = employee['salary'] + 1500\n",
    "    print(total)\n",
    "else:\n",
    "    total = employee['salary'] - 300\n",
    "    print(total)"
   ]
  },
  {
   "cell_type": "code",
   "execution_count": null,
   "metadata": {},
   "outputs": [],
   "source": []
  },
  {
   "cell_type": "code",
   "execution_count": 15,
   "metadata": {},
   "outputs": [],
   "source": [
    "employee2 = {\n",
    "    'fullname': 'Grace Wilson'\n",
    "    , 'salary': 3000\n",
    "    , 'job_title': 'Data Engineer'\n",
    "}"
   ]
  },
  {
   "cell_type": "code",
   "execution_count": 16,
   "metadata": {},
   "outputs": [
    {
     "name": "stdout",
     "output_type": "stream",
     "text": [
      "4500\n"
     ]
    }
   ],
   "source": [
    "if employee2['fullname'] != '':  # true\n",
    "    total = employee2['salary'] + 1500\n",
    "    print(total)\n",
    "else:\n",
    "    total = employee2['salary'] - 300\n",
    "    print(total)"
   ]
  },
  {
   "cell_type": "markdown",
   "metadata": {},
   "source": [
    "#### If, elif and else statements\n",
    "#### input statement"
   ]
  },
  {
   "cell_type": "code",
   "execution_count": 9,
   "metadata": {},
   "outputs": [
    {
     "name": "stdout",
     "output_type": "stream",
     "text": [
      "Color is Red\n"
     ]
    }
   ],
   "source": [
    "if col=='red':\n",
    "    print('Color is Red')\n",
    "elif col=='green':\n",
    "    print('Color is Green')\n",
    "else:\n",
    "    print('Color is Blue')"
   ]
  },
  {
   "cell_type": "code",
   "execution_count": null,
   "metadata": {},
   "outputs": [],
   "source": []
  },
  {
   "cell_type": "code",
   "execution_count": 11,
   "metadata": {},
   "outputs": [
    {
     "name": "stdout",
     "output_type": "stream",
     "text": [
      "That is Yours\n"
     ]
    }
   ],
   "source": [
    "number=10\n",
    "if number>20:\n",
    "    print('This is mine')\n",
    "elif number>=10:\n",
    "    print('That is Yours')\n",
    "else:\n",
    "    print('Integer')"
   ]
  },
  {
   "cell_type": "code",
   "execution_count": 22,
   "metadata": {},
   "outputs": [
    {
     "name": "stdout",
     "output_type": "stream",
     "text": [
      "Input my first name here: Joshua\n"
     ]
    },
    {
     "data": {
      "text/plain": [
       "'Joshua'"
      ]
     },
     "execution_count": 22,
     "metadata": {},
     "output_type": "execute_result"
    }
   ],
   "source": [
    "myname = input(\"Input my first name here: \")\n",
    "myname"
   ]
  },
  {
   "cell_type": "code",
   "execution_count": 28,
   "metadata": {},
   "outputs": [
    {
     "name": "stdout",
     "output_type": "stream",
     "text": [
      "Enter a number35\n"
     ]
    },
    {
     "data": {
      "text/plain": [
       "'35'"
      ]
     },
     "execution_count": 28,
     "metadata": {},
     "output_type": "execute_result"
    }
   ],
   "source": [
    "num = input(\"Enter a number\")\n",
    "num"
   ]
  },
  {
   "cell_type": "code",
   "execution_count": 29,
   "metadata": {},
   "outputs": [
    {
     "data": {
      "text/plain": [
       "str"
      ]
     },
     "execution_count": 29,
     "metadata": {},
     "output_type": "execute_result"
    }
   ],
   "source": [
    "type(num)"
   ]
  },
  {
   "cell_type": "code",
   "execution_count": 24,
   "metadata": {},
   "outputs": [],
   "source": [
    "# Mark of a student in Exam is taking as input. Based on this mark grade is decided by using if , elif and else.\n",
    "\n",
    "# More than or equal to 80 is A grade\n",
    "# More than or equal to 60 is B grade\n",
    "# More than or equal to 40 is C grade\n",
    "# Less than 40 mark is Fail"
   ]
  },
  {
   "cell_type": "code",
   "execution_count": 27,
   "metadata": {},
   "outputs": [
    {
     "name": "stdout",
     "output_type": "stream",
     "text": [
      "Enter your mark 25\n",
      "You Failed \n"
     ]
    }
   ],
   "source": [
    "score=int(input(\"Enter your mark \"))\n",
    "if(score>=80):\n",
    "    print(\"You got A grade\")\n",
    "elif(score>=60):\n",
    "    print(\"You got B grade\")\n",
    "elif(score>=40):\n",
    "    print(\"You got C grade\")\n",
    "else:\n",
    "    print(\"You Failed \")"
   ]
  },
  {
   "cell_type": "code",
   "execution_count": 15,
   "metadata": {},
   "outputs": [
    {
     "name": "stdout",
     "output_type": "stream",
     "text": [
      "Above 10\n",
      "Above 20\n"
     ]
    }
   ],
   "source": [
    "x=40\n",
    "if x>10:\n",
    "    print('Above 10')\n",
    "    if x>20:\n",
    "        print('Above 20')\n",
    "    else:\n",
    "        print('Not Above')"
   ]
  },
  {
   "cell_type": "code",
   "execution_count": 14,
   "metadata": {},
   "outputs": [
    {
     "name": "stdout",
     "output_type": "stream",
     "text": [
      "Value is less than 200\n",
      "Value is 100\n",
      "Good Bye\n"
     ]
    }
   ],
   "source": [
    "#Nested If\n",
    "var=100\n",
    "if var<200:\n",
    "    print('Value is less than 200')\n",
    "    if var==150:\n",
    "        print('Value is 150')\n",
    "    elif var==100:\n",
    "        print('Value is 100')\n",
    "else:\n",
    "    print('Value not found')\n",
    "print('Good Bye')"
   ]
  },
  {
   "cell_type": "markdown",
   "metadata": {},
   "source": [
    "## Logical Operators\n",
    "### and, or, not"
   ]
  },
  {
   "cell_type": "markdown",
   "metadata": {},
   "source": [
    "### Evaluating Complex assertions using Logical Operators\n",
    "- True and False returns False\n",
    "- True or False returns True"
   ]
  },
  {
   "cell_type": "markdown",
   "metadata": {},
   "source": [
    "### The Truth Table\n",
    "\n",
    "##### and\n",
    "- True and True = True\n",
    "- True and False = False\n",
    "- False and True = False\n",
    "- False and False = False\n",
    "\n",
    "##### or\n",
    "- True or True = True\n",
    "- True or False = True\n",
    "- False or True = True\n",
    "- False or False = False"
   ]
  },
  {
   "cell_type": "code",
   "execution_count": 17,
   "metadata": {},
   "outputs": [
    {
     "data": {
      "text/plain": [
       "10"
      ]
     },
     "execution_count": 17,
     "metadata": {},
     "output_type": "execute_result"
    }
   ],
   "source": [
    "a,b,c=10,12,-10\n",
    "a"
   ]
  },
  {
   "cell_type": "code",
   "execution_count": 18,
   "metadata": {},
   "outputs": [
    {
     "name": "stdout",
     "output_type": "stream",
     "text": [
      "Greater than Zero\n"
     ]
    }
   ],
   "source": [
    "if a>0 and b>0:\n",
    "    print('Greater than Zero')"
   ]
  },
  {
   "cell_type": "code",
   "execution_count": 19,
   "metadata": {},
   "outputs": [
    {
     "name": "stdout",
     "output_type": "stream",
     "text": [
      "No numbers\n"
     ]
    }
   ],
   "source": [
    "if a<0 and b>0:\n",
    "    print('numbers')\n",
    "else:\n",
    "    print('No numbers')"
   ]
  },
  {
   "cell_type": "code",
   "execution_count": 20,
   "metadata": {},
   "outputs": [
    {
     "name": "stdout",
     "output_type": "stream",
     "text": [
      "Numbers\n"
     ]
    }
   ],
   "source": [
    "if a<0 or b>0:\n",
    "    print('Numbers')\n",
    "else:\n",
    "    print('No numbers')"
   ]
  },
  {
   "cell_type": "code",
   "execution_count": 21,
   "metadata": {},
   "outputs": [
    {
     "name": "stdout",
     "output_type": "stream",
     "text": [
      "Atleast one number is not greater than 0\n"
     ]
    }
   ],
   "source": [
    "if a > 0 and b > 0 and c > 0: \n",
    "    print(\"The numbers are greater than 0\") \n",
    "else: \n",
    "    print(\"Atleast one number is not greater than 0\") "
   ]
  },
  {
   "cell_type": "code",
   "execution_count": 22,
   "metadata": {},
   "outputs": [
    {
     "name": "stdout",
     "output_type": "stream",
     "text": [
      "Either of the number is greater than 0\n"
     ]
    }
   ],
   "source": [
    "e,f,g=10,-10,0\n",
    "if e > 0 or f > 0: \n",
    "    print(\"Either of the number is greater than 0\") \n",
    "else: \n",
    "    print(\"No number is greater than 0\")"
   ]
  },
  {
   "cell_type": "code",
   "execution_count": 23,
   "metadata": {},
   "outputs": [
    {
     "name": "stdout",
     "output_type": "stream",
     "text": [
      "No number is greater than 0\n"
     ]
    }
   ],
   "source": [
    "if f > 0 or g > 0: \n",
    "    print(\"Either of the number is greater than 0\") \n",
    "else: \n",
    "    print(\"No number is greater than 0\") "
   ]
  },
  {
   "cell_type": "code",
   "execution_count": 17,
   "metadata": {},
   "outputs": [
    {
     "name": "stdout",
     "output_type": "stream",
     "text": [
      "you can vote\n"
     ]
    }
   ],
   "source": [
    "# who can vote?\n",
    "citizen = 'Nigerian'\n",
    "age = 18\n",
    "\n",
    "# you have to be Nigerian and above 18 years of age\n",
    "if (citizen == 'Nigerian') and (age >= 18): # true and false == false\n",
    "    print('you can vote')\n",
    "else:\n",
    "    print('you cannot vote')"
   ]
  },
  {
   "cell_type": "code",
   "execution_count": 18,
   "metadata": {},
   "outputs": [],
   "source": [
    "# Quiz 1\n",
    "\n",
    "# Quiz 1: The firstname, lastname, and testscore of three students have been provided each in a list respectivelty. \n",
    "# A student is only qualified to take exams if:\n",
    "#     1. they have provided appropraite names (not empty strings), and\n",
    "#     2. have scored above 25 in their test.\n",
    "# Your task: Write a conditional statement to confirm these checks.\n",
    "\n",
    "student1 = ['', 'Paul', 28]\n",
    "student2 = ['Rachael', 'Kenneth', 24]\n",
    "student3 = ['Lukman', 'Quadri', 25]"
   ]
  },
  {
   "cell_type": "code",
   "execution_count": null,
   "metadata": {},
   "outputs": [],
   "source": [
    "# Provide your solution below this line\n",
    "# ------------------------------------------------------\n",
    "\n",
    "# student 1\n",
    "if ((student1[0] != '') and (student1[1] != '')) and (student1[2] > 25):\n",
    "    print('student1 can take the exams')\n",
    "else:\n",
    "    print('student1 can not take the exams')\n",
    "\n",
    "# student 2\n",
    "if ((student2[0] != '') and (student2[1] != '')) and (student2[2] > 25):\n",
    "    print('student2 can take the exams')\n",
    "else:\n",
    "    print('student2 can not take the exams')\n",
    "\n",
    "# student 3\n",
    "if ((student3[0] != '') and (student3[1] != '')) and (student3[2] > 25):\n",
    "    print('student3 can take the exams')\n",
    "else:\n",
    "    print('student3 can not take the exams')"
   ]
  },
  {
   "cell_type": "code",
   "execution_count": 20,
   "metadata": {},
   "outputs": [],
   "source": [
    "# Quiz 2\n",
    "# Quiz 2: A list of guests of an event has been provided by the organizer. Each dictionary within the list contains the name, age, and swim status of some attendees.\n",
    "# An attendee is allowed to access the pool area only if\n",
    "#     1. they are above 18, or\n",
    "#     2. have experience swimming.\n",
    "# Within the same list, add a new key value pair to indicate their eligibility\n",
    "\n",
    "attendees = [\n",
    "    {'name': 'Sekinat Kareem', 'age': 19, 'can_swim': False}\n",
    "    , {'name': 'Isaac Abdul', 'age': 21, 'can_swim': True}\n",
    "    , {'name': 'Kate Lemon', 'age': 17, 'can_swim': False}\n",
    "]"
   ]
  },
  {
   "cell_type": "code",
   "execution_count": 21,
   "metadata": {},
   "outputs": [],
   "source": [
    "# assign each person to a vriable for easy access\n",
    "sekinat = attendees[0]\n",
    "isaac = attendees[1]\n",
    "kate = attendees[2]"
   ]
  },
  {
   "cell_type": "markdown",
   "metadata": {},
   "source": [
    "### Loops\n",
    "\n",
    "Loops in Python are used to traverse sequential data types (e.g. lists, strings)\n",
    "\n",
    "##### For Loop Syntax\n",
    "`for _element_ in _iterable_:`<br>\n",
    "&nbsp;&nbsp;&nbsp;&nbsp;&nbsp;&nbsp;&nbsp;&nbsp;&nbsp;&nbsp;`do_something`\n",
    "\n",
    "\n",
    "#### Loops-Iterating through a sequence(The range function)"
   ]
  },
  {
   "cell_type": "code",
   "execution_count": 28,
   "metadata": {},
   "outputs": [
    {
     "name": "stdout",
     "output_type": "stream",
     "text": [
      "[0, 1, 2, 3, 4, 5]\n"
     ]
    }
   ],
   "source": [
    "print(list(range(6)))"
   ]
  },
  {
   "cell_type": "code",
   "execution_count": 29,
   "metadata": {},
   "outputs": [
    {
     "data": {
      "text/plain": [
       "[2, 3, 4, 5, 6, 7]"
      ]
     },
     "execution_count": 29,
     "metadata": {},
     "output_type": "execute_result"
    }
   ],
   "source": [
    "list(range(2,8))"
   ]
  },
  {
   "cell_type": "code",
   "execution_count": 30,
   "metadata": {},
   "outputs": [
    {
     "data": {
      "text/plain": [
       "[0, 2, 4, 6, 8, 10, 12, 14, 16, 18]"
      ]
     },
     "execution_count": 30,
     "metadata": {},
     "output_type": "execute_result"
    }
   ],
   "source": [
    "list(range(0,20,2))"
   ]
  },
  {
   "cell_type": "code",
   "execution_count": 32,
   "metadata": {},
   "outputs": [
    {
     "name": "stdout",
     "output_type": "stream",
     "text": [
      "0\n",
      "1\n",
      "2\n",
      "3\n",
      "4\n"
     ]
    }
   ],
   "source": [
    "#Indentation-its used to group statements\n",
    "for x in range(5):\n",
    "    print (x)\n"
   ]
  },
  {
   "cell_type": "code",
   "execution_count": 33,
   "metadata": {},
   "outputs": [
    {
     "name": "stdout",
     "output_type": "stream",
     "text": [
      "5\n",
      "15\n",
      "25\n",
      "35\n",
      "45\n"
     ]
    }
   ],
   "source": [
    "for i in range(1,10,2):\n",
    "    product=5*i\n",
    "    print(product)"
   ]
  },
  {
   "cell_type": "code",
   "execution_count": 35,
   "metadata": {},
   "outputs": [
    {
     "name": "stdout",
     "output_type": "stream",
     "text": [
      "pop\n",
      "rock\n",
      "jazz\n",
      "highlife\n",
      "makossa\n"
     ]
    }
   ],
   "source": [
    "genre=['pop','rock','jazz','highlife','makossa']\n",
    "for music in genre:\n",
    "    print (music)\n",
    "    "
   ]
  },
  {
   "cell_type": "code",
   "execution_count": 36,
   "metadata": {},
   "outputs": [
    {
     "name": "stdout",
     "output_type": "stream",
     "text": [
      "0\n",
      "1\n",
      "2\n",
      "3\n",
      "4\n"
     ]
    }
   ],
   "source": [
    "for b in range(len(genre)):\n",
    "    print(b)"
   ]
  },
  {
   "cell_type": "code",
   "execution_count": 37,
   "metadata": {},
   "outputs": [
    {
     "name": "stdout",
     "output_type": "stream",
     "text": [
      "I love pop\n",
      "I love rock\n",
      "I love jazz\n",
      "I love highlife\n",
      "I love makossa\n"
     ]
    }
   ],
   "source": [
    "for a in range(len(genre)):\n",
    "    print('I love', genre[a])"
   ]
  },
  {
   "cell_type": "code",
   "execution_count": 44,
   "metadata": {},
   "outputs": [
    {
     "name": "stdout",
     "output_type": "stream",
     "text": [
      "1\n",
      "2\n",
      "3\n",
      "4\n",
      "5\n",
      "No Digit Left\n"
     ]
    }
   ],
   "source": [
    "digits=[1,2,3,4,5]\n",
    "for i in digits:\n",
    "    print (i)\n",
    "else:\n",
    "    print('No Digit Left')"
   ]
  },
  {
   "cell_type": "code",
   "execution_count": 40,
   "metadata": {},
   "outputs": [
    {
     "name": "stdout",
     "output_type": "stream",
     "text": [
      "[0, 8, 64, 216, 512]\n"
     ]
    }
   ],
   "source": [
    "cubes=[]\n",
    "for c in range(0,10,2):\n",
    "    cubes.append(c**3)\n",
    "print(cubes)"
   ]
  },
  {
   "cell_type": "markdown",
   "metadata": {},
   "source": [
    "#### List Comprehension\n",
    "- newlist = [`expression` `for loop` `if condition`]"
   ]
  },
  {
   "cell_type": "code",
   "execution_count": 37,
   "metadata": {},
   "outputs": [
    {
     "data": {
      "text/plain": [
       "[0, 4, 16, 36, 64]"
      ]
     },
     "execution_count": 37,
     "metadata": {},
     "output_type": "execute_result"
    }
   ],
   "source": [
    "squares = []\n",
    "for i in range(0,10,2):\n",
    "    squares.append(i * i)\n",
    "squares"
   ]
  },
  {
   "cell_type": "code",
   "execution_count": 38,
   "metadata": {},
   "outputs": [
    {
     "data": {
      "text/plain": [
       "[0, 4, 16, 36, 64]"
      ]
     },
     "execution_count": 38,
     "metadata": {},
     "output_type": "execute_result"
    }
   ],
   "source": [
    "square = [x**2 for x in range(0,10,2)]\n",
    "square"
   ]
  },
  {
   "cell_type": "code",
   "execution_count": 39,
   "metadata": {},
   "outputs": [
    {
     "data": {
      "text/plain": [
       "['e', 'o', 'e', 'a', 'e', 'a', 'o', 'a']"
      ]
     },
     "execution_count": 39,
     "metadata": {},
     "output_type": "execute_result"
    }
   ],
   "source": [
    "sentence = 'the rocket came back from mars'\n",
    "vowels = [i for i in sentence if i in 'aeiou']\n",
    "vowels"
   ]
  },
  {
   "cell_type": "markdown",
   "metadata": {},
   "source": [
    "#### While Loop\n",
    "-This continually execute program as long as the condition remain true."
   ]
  },
  {
   "cell_type": "code",
   "execution_count": 3,
   "metadata": {},
   "outputs": [
    {
     "name": "stdout",
     "output_type": "stream",
     "text": [
      "0\n",
      "1\n",
      "2\n",
      "3\n",
      "4\n",
      "Thank You\n"
     ]
    }
   ],
   "source": [
    "\n",
    "count=0\n",
    "while (count < 5):\n",
    "    print(count)\n",
    "    count=count+1\n",
    "print('Thank You')"
   ]
  },
  {
   "cell_type": "code",
   "execution_count": 4,
   "metadata": {},
   "outputs": [
    {
     "name": "stdout",
     "output_type": "stream",
     "text": [
      "The count is: 0\n",
      "The count is: 1\n",
      "The count is: 2\n",
      "The count is: 3\n",
      "The count is: 4\n",
      "The count is: 5\n",
      "The count is: 6\n",
      "The count is: 7\n",
      "The count is: 8\n",
      "Good bye!\n"
     ]
    }
   ],
   "source": [
    "count = 0\n",
    "while (count < 9):\n",
    "   print('The count is:', count)\n",
    "   count = (count + 1)\n",
    "\n",
    "print (\"Good bye!\")"
   ]
  },
  {
   "cell_type": "code",
   "execution_count": 30,
   "metadata": {},
   "outputs": [
    {
     "name": "stdout",
     "output_type": "stream",
     "text": [
      "*\n",
      "**\n",
      "***\n",
      "****\n",
      "*****\n",
      "******\n",
      "*******\n"
     ]
    }
   ],
   "source": [
    "# Print a right angle triangle using asterix\n",
    "rows = 7\n",
    "current_row = 1\n",
    "while current_row <= rows:\n",
    "    print(\"*\" * current_row)\n",
    "    current_row += 1"
   ]
  },
  {
   "cell_type": "code",
   "execution_count": null,
   "metadata": {},
   "outputs": [],
   "source": [
    "# Use the while loop to get the factorial of a number\n",
    "number = 5\n",
    "factorial = 1\n",
    "while number > 0:\n",
    "    factorial *= number\n",
    "    number -= 1\n",
    "print(\"Factorial:\", factorial)"
   ]
  },
  {
   "cell_type": "code",
   "execution_count": 12,
   "metadata": {},
   "outputs": [
    {
     "name": "stdout",
     "output_type": "stream",
     "text": [
      "10\n",
      "20\n",
      "30\n",
      "40\n",
      "The End\n"
     ]
    }
   ],
   "source": [
    "#Break & Continue Statements are used to terminate expressions without checking test expression\n",
    "number1=[10,20,30,40,50,60]\n",
    "for x in number1:\n",
    "    if x==50:\n",
    "        break\n",
    "    print(x)\n",
    "print('The End')\n",
    "    \n",
    "    \n"
   ]
  },
  {
   "cell_type": "code",
   "execution_count": 14,
   "metadata": {},
   "outputs": [
    {
     "name": "stdout",
     "output_type": "stream",
     "text": [
      "This is Letter p\n",
      "This is Letter y\n",
      "This is Letter t\n"
     ]
    }
   ],
   "source": [
    "for letter in 'python':\n",
    "    if letter=='h':\n",
    "        break\n",
    "    print('This is Letter', letter)"
   ]
  },
  {
   "cell_type": "code",
   "execution_count": 16,
   "metadata": {},
   "outputs": [
    {
     "name": "stdout",
     "output_type": "stream",
     "text": [
      "The Number is 1\n",
      "The Number is 2\n",
      "The Number is 3\n",
      "The Number is 4\n"
     ]
    }
   ],
   "source": [
    "varchar=[1,2,3,4,5,6,7,8,9]\n",
    "for num in varchar:\n",
    "    if num==5:\n",
    "        break\n",
    "    print('The Number is', num)"
   ]
  },
  {
   "cell_type": "code",
   "execution_count": 17,
   "metadata": {},
   "outputs": [
    {
     "name": "stdout",
     "output_type": "stream",
     "text": [
      "This is Letter p\n",
      "This is Letter y\n",
      "This is Letter t\n",
      "This is Letter o\n",
      "This is Letter n\n"
     ]
    }
   ],
   "source": [
    "#Continue statement is used to skip the condition and continues with the other iteration\n",
    "for letter in 'python':\n",
    "    if letter=='h':\n",
    "        continue\n",
    "    print('This is Letter', letter)"
   ]
  },
  {
   "cell_type": "code",
   "execution_count": 18,
   "metadata": {},
   "outputs": [
    {
     "name": "stdout",
     "output_type": "stream",
     "text": [
      "10\n",
      "20\n",
      "30\n",
      "40\n",
      "60\n",
      "The End\n"
     ]
    }
   ],
   "source": [
    "number1=[10,20,30,40,50,60]\n",
    "for x in number1:\n",
    "    if x==50:\n",
    "        continue\n",
    "    print(x)\n",
    "print('The End')"
   ]
  },
  {
   "cell_type": "code",
   "execution_count": 21,
   "metadata": {},
   "outputs": [
    {
     "name": "stdout",
     "output_type": "stream",
     "text": [
      "p\n",
      "r\n",
      "o\n",
      "This is a Block\n",
      "g\n",
      "r\n",
      "a\n",
      "m\n",
      "Thank You Sir\n"
     ]
    }
   ],
   "source": [
    "#Pass statement is used as a placeholder\n",
    "for l in 'program':\n",
    "    if l=='g':\n",
    "        pass\n",
    "        print('This is a Block')\n",
    "    print(l)\n",
    "print(\"Thank You Sir\")\n",
    "        \n",
    "    "
   ]
  },
  {
   "cell_type": "markdown",
   "metadata": {},
   "source": [
    "### Functions\n",
    "- A function is a block of code which only runs when it is called.\n",
    "- You can pass data, known as parameters, into a function.\n",
    "- A function can return data as a result."
   ]
  },
  {
   "cell_type": "code",
   "execution_count": 24,
   "metadata": {},
   "outputs": [
    {
     "name": "stdout",
     "output_type": "stream",
     "text": [
      "Hello Paul. Good Morning\n"
     ]
    }
   ],
   "source": [
    "\n",
    "def greet(name):\n",
    "    \"\"\"This function greets the person passed as parameter\"\"\"\n",
    "    print('Hello '+name+'. Good Morning')\n",
    "    \n",
    "greet('Paul')"
   ]
  },
  {
   "cell_type": "code",
   "execution_count": 25,
   "metadata": {},
   "outputs": [
    {
     "name": "stdout",
     "output_type": "stream",
     "text": [
      "Hello Lizzy. Good Morning\n",
      "None\n"
     ]
    }
   ],
   "source": [
    "print(greet('Lizzy'))"
   ]
  },
  {
   "cell_type": "code",
   "execution_count": 28,
   "metadata": {},
   "outputs": [
    {
     "name": "stdout",
     "output_type": "stream",
     "text": [
      "This is the 5th Number\n"
     ]
    }
   ],
   "source": [
    "def change(number):\n",
    "    print('This is the '+number+ 'th'+' Number')\n",
    "change('5')"
   ]
  },
  {
   "cell_type": "markdown",
   "metadata": {},
   "source": [
    "#### Using the return statement-It ends the execution of the function and return the result"
   ]
  },
  {
   "cell_type": "code",
   "execution_count": 29,
   "metadata": {},
   "outputs": [
    {
     "data": {
      "text/plain": [
       "30"
      ]
     },
     "execution_count": 29,
     "metadata": {},
     "output_type": "execute_result"
    }
   ],
   "source": [
    "\n",
    "def add(x,y):\n",
    "    \"\"\"This returns x+y\"\"\"\n",
    "    return(x+y)\n",
    "add(10,20)"
   ]
  },
  {
   "cell_type": "code",
   "execution_count": 31,
   "metadata": {},
   "outputs": [
    {
     "data": {
      "text/plain": [
       "6500"
      ]
     },
     "execution_count": 31,
     "metadata": {},
     "output_type": "execute_result"
    }
   ],
   "source": [
    "add(2000,4500)"
   ]
  },
  {
   "cell_type": "code",
   "execution_count": 37,
   "metadata": {},
   "outputs": [
    {
     "name": "stdout",
     "output_type": "stream",
     "text": [
      "even\n",
      "odd\n"
     ]
    }
   ],
   "source": [
    "def num(x):\n",
    "    if (x%2==0):\n",
    "        return 'even'\n",
    "    else:\n",
    "        return 'odd'\n",
    "    \n",
    "print(num(4))\n",
    "print(num(5))"
   ]
  },
  {
   "cell_type": "code",
   "execution_count": 36,
   "metadata": {},
   "outputs": [
    {
     "name": "stdout",
     "output_type": "stream",
     "text": [
      "even\n",
      "odd\n"
     ]
    }
   ],
   "source": [
    "def num(x):\n",
    "    if (x%2==0):\n",
    "        print ('even')\n",
    "    else:\n",
    "        print ('odd')\n",
    "num(2)\n",
    "num(3)"
   ]
  },
  {
   "cell_type": "code",
   "execution_count": 38,
   "metadata": {},
   "outputs": [
    {
     "name": "stdout",
     "output_type": "stream",
     "text": [
      "5\n",
      "3\n"
     ]
    }
   ],
   "source": [
    "def abs_val(num):\n",
    "    \"\"\"This fuction returns the absolute of the entered number\"\"\"\n",
    "    if num>=0:\n",
    "        return num\n",
    "    else:\n",
    "        return -num\n",
    "    \n",
    "print(abs_val(-5))\n",
    "print(abs_val(3))"
   ]
  },
  {
   "cell_type": "markdown",
   "metadata": {},
   "source": [
    "### Lambda Functions\n",
    "- A lambda function is a small anonymous function.\n",
    "- A lambda function can take any number of arguments, but can only have one expression.\n",
    "- `lambda arguments` : `expression`\n"
   ]
  },
  {
   "cell_type": "code",
   "execution_count": 4,
   "metadata": {},
   "outputs": [
    {
     "name": "stdout",
     "output_type": "stream",
     "text": [
      "12\n"
     ]
    }
   ],
   "source": [
    "product=lambda x,y:x*y\n",
    "print(product(3,4))"
   ]
  },
  {
   "cell_type": "code",
   "execution_count": 6,
   "metadata": {},
   "outputs": [
    {
     "data": {
      "text/plain": [
       "30"
      ]
     },
     "execution_count": 6,
     "metadata": {},
     "output_type": "execute_result"
    }
   ],
   "source": [
    "add=lambda a,b:a+b\n",
    "total=add(10,20)\n",
    "total"
   ]
  },
  {
   "cell_type": "code",
   "execution_count": 1,
   "metadata": {},
   "outputs": [
    {
     "name": "stdout",
     "output_type": "stream",
     "text": [
      "1\n"
     ]
    }
   ],
   "source": [
    "rem=lambda num:num%2\n",
    "print(rem(5))"
   ]
  },
  {
   "cell_type": "code",
   "execution_count": 5,
   "metadata": {},
   "outputs": [
    {
     "name": "stdout",
     "output_type": "stream",
     "text": [
      "1\n"
     ]
    }
   ],
   "source": [
    "#The above lambda function can be written in normal function as \n",
    "def rem(num):\n",
    "    return num%2\n",
    "print(rem(5))"
   ]
  },
  {
   "cell_type": "code",
   "execution_count": 8,
   "metadata": {},
   "outputs": [
    {
     "data": {
      "text/plain": [
       "[('at', 23), ('from', 3), ('should', 5), ('the', 34)]"
      ]
     },
     "execution_count": 8,
     "metadata": {},
     "output_type": "execute_result"
    }
   ],
   "source": [
    "#Sorting a list of tuples using Lambda functions\n",
    "exp=[('the',34),('at',23),('should',5),('from',3)]\n",
    "\n",
    "exp.sort() #This Sorts the list based on the first parameter of the tuple\n",
    "exp"
   ]
  },
  {
   "cell_type": "code",
   "execution_count": 9,
   "metadata": {},
   "outputs": [
    {
     "data": {
      "text/plain": [
       "[('from', 3), ('should', 5), ('at', 23), ('the', 34)]"
      ]
     },
     "execution_count": 9,
     "metadata": {},
     "output_type": "execute_result"
    }
   ],
   "source": [
    "#Sort based on the second parameter using lambda\n",
    "exp.sort(key=lambda x:x[1])\n",
    "exp"
   ]
  },
  {
   "cell_type": "code",
   "execution_count": 12,
   "metadata": {},
   "outputs": [
    {
     "data": {
      "text/plain": [
       "['hi', 'is', 'program', 'sample', 'string', 'this']"
      ]
     },
     "execution_count": 12,
     "metadata": {},
     "output_type": "execute_result"
    }
   ],
   "source": [
    "#Sorting a list of strings using Lambda functions\n",
    "list_str=['hi','this','is','sample','string','program']\n",
    "list_str.sort() #This sorts it alphabetically\n",
    "list_str"
   ]
  },
  {
   "cell_type": "code",
   "execution_count": 13,
   "metadata": {},
   "outputs": [
    {
     "data": {
      "text/plain": [
       "['hi', 'is', 'this', 'sample', 'string', 'program']"
      ]
     },
     "execution_count": 13,
     "metadata": {},
     "output_type": "execute_result"
    }
   ],
   "source": [
    "#Sorting based on lenght of string\n",
    "list_str.sort(key=lambda x:len(x))\n",
    "list_str"
   ]
  },
  {
   "cell_type": "code",
   "execution_count": null,
   "metadata": {},
   "outputs": [],
   "source": []
  }
 ],
 "metadata": {
  "kernelspec": {
   "display_name": "Python 3 (ipykernel)",
   "language": "python",
   "name": "python3"
  },
  "language_info": {
   "codemirror_mode": {
    "name": "ipython",
    "version": 3
   },
   "file_extension": ".py",
   "mimetype": "text/x-python",
   "name": "python",
   "nbconvert_exporter": "python",
   "pygments_lexer": "ipython3",
   "version": "3.10.9"
  }
 },
 "nbformat": 4,
 "nbformat_minor": 4
}
